{
 "cells": [
  {
   "cell_type": "code",
   "execution_count": 2,
   "id": "423d1cb7",
   "metadata": {},
   "outputs": [],
   "source": [
    "from bs4 import BeautifulSoup\n",
    "import pandas as pd\n",
    "import requests\n",
    "import matplotlib.pyplot as plt\n",
    "import scipy.stats as st"
   ]
  },
  {
   "cell_type": "code",
   "execution_count": null,
   "id": "d49c4c29",
   "metadata": {},
   "outputs": [],
   "source": [
    "soup = BeautifulSoup(\"<p>Some<b>bad<i>HTML\")\n",
    "\n",
    "news_title = \"NASA's Next Mars Mission to Investigate Interior of Red Planet\"\n",
    "\n",
    "news_p = \"Preparation of NASA's next spacecraft to Mars, InSight, has ramped up this summer, on course for launch next May from Vandenberg Air Force Base in central California -- the first interplanetary launch in history from America's West Coast.\""
   ]
  },
  {
   "cell_type": "code",
   "execution_count": 4,
   "id": "67714e1c",
   "metadata": {},
   "outputs": [],
   "source": [
    "# Example:\n",
    "featured_image_url = 'https://spaceimages-mars.com/image/featured/mars2.jpg'\n",
    "SIZE_url = 'https://space-facts.com/wp-content/uploads/mars-size.png'\n",
    "ORBIT_url = 'https://space-facts.com/wp-content/uploads/mars-orbit.png'"
   ]
  },
  {
   "cell_type": "code",
   "execution_count": 7,
   "id": "6b03bd2f",
   "metadata": {},
   "outputs": [
    {
     "name": "stdout",
     "output_type": "stream",
     "text": [
      "2\n"
     ]
    },
    {
     "data": {
      "text/plain": [
       "[                         0                1                2\n",
       " 0  Mars - Earth Comparison             Mars            Earth\n",
       " 1                Diameter:         6,779 km        12,742 km\n",
       " 2                    Mass:  6.39 × 10^23 kg  5.97 × 10^24 kg\n",
       " 3                   Moons:                2                1\n",
       " 4       Distance from Sun:   227,943,824 km   149,598,262 km\n",
       " 5          Length of Year:   687 Earth days      365.24 days\n",
       " 6             Temperature:     -87 to -5 °C      -88 to 58°C,\n",
       "                       0                              1\n",
       " 0  Equatorial Diameter:                       6,792 km\n",
       " 1       Polar Diameter:                       6,752 km\n",
       " 2                 Mass:  6.39 × 10^23 kg (0.11 Earths)\n",
       " 3                Moons:          2 ( Phobos & Deimos )\n",
       " 4       Orbit Distance:       227,943,824 km (1.38 AU)\n",
       " 5         Orbit Period:           687 days (1.9 years)\n",
       " 6  Surface Temperature:                   -87 to -5 °C\n",
       " 7         First Record:              2nd millennium BC\n",
       " 8          Recorded By:           Egyptian astronomers]"
      ]
     },
     "execution_count": 7,
     "metadata": {},
     "output_type": "execute_result"
    }
   ],
   "source": [
    "mars_df = pd.read_html('https://galaxyfacts-mars.com')\n",
    "\n",
    "print(len(mars_df))\n",
    "\n",
    "mars_df"
   ]
  },
  {
   "cell_type": "code",
   "execution_count": 9,
   "id": "ff842c39",
   "metadata": {},
   "outputs": [
    {
     "name": "stdout",
     "output_type": "stream",
     "text": [
      "images/usgs_logo_main_2x.png\n",
      "images/nasa-logo-web-med.png\n",
      "images/astropedia-logo-main.png\n",
      "images/39d3266553462198bd2fbc4d18fbed17_cerberus_enhanced.tif_thumb.png\n",
      "images/08eac6e22c07fb1fe72223a79252de20_schiaparelli_enhanced.tif_thumb.png\n",
      "images/55a0a1e2796313fdeafb17c35925e8ac_syrtis_major_enhanced.tif_thumb.png\n",
      "images/4e59980c1c57f89c680c0e1ccabbeff1_valles_marineris_enhanced.tif_thumb.png\n"
     ]
    }
   ],
   "source": [
    "from urllib.request import urlopen\n",
    "from bs4 import BeautifulSoup\n",
    "  \n",
    "htmldata = urlopen('https://marshemispheres.com/')\n",
    "soup = BeautifulSoup(htmldata, 'html.parser')\n",
    "images = soup.find_all('img')\n",
    "  \n",
    "for item in images:\n",
    "    print(item['src'])"
   ]
  },
  {
   "cell_type": "code",
   "execution_count": null,
   "id": "d7e89b24",
   "metadata": {},
   "outputs": [],
   "source": []
  }
 ],
 "metadata": {
  "kernelspec": {
   "display_name": "Python 3",
   "language": "python",
   "name": "python3"
  },
  "language_info": {
   "codemirror_mode": {
    "name": "ipython",
    "version": 3
   },
   "file_extension": ".py",
   "mimetype": "text/x-python",
   "name": "python",
   "nbconvert_exporter": "python",
   "pygments_lexer": "ipython3",
   "version": "3.8.8"
  }
 },
 "nbformat": 4,
 "nbformat_minor": 5
}
